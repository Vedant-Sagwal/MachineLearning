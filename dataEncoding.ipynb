{
 "cells": [
  {
   "cell_type": "markdown",
   "id": "d697004e",
   "metadata": {},
   "source": [
    "### Nominal Encoding (OneHotEncoding) "
   ]
  },
  {
   "cell_type": "code",
   "execution_count": null,
   "id": "23dbebfb",
   "metadata": {
    "vscode": {
     "languageId": "plaintext"
    }
   },
   "outputs": [],
   "source": [
    "from sklearn.preprocessing import OneHotEncoder"
   ]
  }
 ],
 "metadata": {
  "language_info": {
   "name": "python"
  }
 },
 "nbformat": 4,
 "nbformat_minor": 5
}
