{
 "cells": [
  {
   "cell_type": "code",
   "execution_count": 4,
   "id": "4e16fb3b-b98b-48e2-99d2-3e0b15cd4224",
   "metadata": {},
   "outputs": [],
   "source": [
    "import numpy as np"
   ]
  },
  {
   "cell_type": "code",
   "execution_count": 5,
   "id": "b6641dd9-7e58-418f-bf4c-694851e41de9",
   "metadata": {},
   "outputs": [
    {
     "name": "stdout",
     "output_type": "stream",
     "text": [
      "[1 2 3 4 5]\n",
      "<class 'numpy.ndarray'>\n"
     ]
    }
   ],
   "source": [
    "arr = np.array([1, 2, 3, 4, 5])\n",
    "print(arr)\n",
    "print(type(arr))"
   ]
  },
  {
   "cell_type": "code",
   "execution_count": 6,
   "id": "0a957118-c95c-4585-9831-b808a28c28d0",
   "metadata": {},
   "outputs": [
    {
     "name": "stdout",
     "output_type": "stream",
     "text": [
      "(5,)\n"
     ]
    }
   ],
   "source": [
    "print(arr.shape)"
   ]
  },
  {
   "cell_type": "code",
   "execution_count": 7,
   "id": "ef576204-7f7d-457d-ab9e-382cf6473701",
   "metadata": {},
   "outputs": [
    {
     "name": "stdout",
     "output_type": "stream",
     "text": [
      "(5,)\n"
     ]
    }
   ],
   "source": [
    "arr.reshape(5,1)\n",
    "print(arr.shape)"
   ]
  },
  {
   "cell_type": "code",
   "execution_count": 8,
   "id": "78c499ae-0785-4448-92ed-9575df8e07e2",
   "metadata": {},
   "outputs": [
    {
     "name": "stdout",
     "output_type": "stream",
     "text": [
      "[[0]\n",
      " [3]\n",
      " [6]\n",
      " [9]]\n"
     ]
    }
   ],
   "source": [
    "arr1 = np.arange(0,10, 3).reshape(4,1)\n",
    "print(arr1)"
   ]
  },
  {
   "cell_type": "code",
   "execution_count": 9,
   "id": "bffe0274-cb42-4f7b-8496-a459a15444a3",
   "metadata": {},
   "outputs": [
    {
     "name": "stdout",
     "output_type": "stream",
     "text": [
      "[[1. 0. 0.]\n",
      " [0. 1. 0.]\n",
      " [0. 0. 1.]]\n"
     ]
    }
   ],
   "source": [
    "#identity matrix\n",
    "identity =  np.eye(3)\n",
    "print(identity)"
   ]
  },
  {
   "cell_type": "code",
   "execution_count": 10,
   "id": "d9721b16-fb76-4593-a8de-b9a2a252afad",
   "metadata": {},
   "outputs": [
    {
     "name": "stdout",
     "output_type": "stream",
     "text": [
      "8\n",
      "int64\n"
     ]
    }
   ],
   "source": [
    "arr2 = np.array([1, 2, 3, 4, 5])\n",
    "print(arr2.itemsize)\n",
    "print(arr2.dtype)"
   ]
  },
  {
   "cell_type": "code",
   "execution_count": 11,
   "id": "74affc3f-5ca2-4b97-8a59-0891737931ec",
   "metadata": {},
   "outputs": [
    {
     "name": "stdout",
     "output_type": "stream",
     "text": [
      "[11 22 33 44 55]\n",
      "[ -9 -18 -27 -36 -45]\n",
      "[ 10  40  90 160 250]\n"
     ]
    }
   ],
   "source": [
    "arr3 = np.array([1, 2, 3, 4,5 ])\n",
    "arr4 = np.array([10, 20, 30, 40, 50 ])\n",
    "print(arr3 + arr4)\n",
    "print(arr3 - arr4)\n",
    "print(arr3 * arr4)"
   ]
  },
  {
   "cell_type": "code",
   "execution_count": 12,
   "id": "0dd24842-8cbf-47c6-bc5f-fb98dabcf557",
   "metadata": {},
   "outputs": [
    {
     "name": "stdout",
     "output_type": "stream",
     "text": [
      "[[  3   4   5]\n",
      " [ 30  40  50]\n",
      " [300 400 500]]\n"
     ]
    }
   ],
   "source": [
    "matrix = np.array([[1,2,3,4,5], [10,20,30,40,50],[100,200,300,400,500]])\n",
    "print(matrix[0:,2:])"
   ]
  },
  {
   "cell_type": "code",
   "execution_count": 13,
   "id": "106c3d64",
   "metadata": {},
   "outputs": [
    {
     "name": "stdout",
     "output_type": "stream",
     "text": [
      "3.0\n",
      "1.4142135623730951\n",
      "[-1.41421356 -0.70710678  0.          0.70710678  1.41421356]\n"
     ]
    }
   ],
   "source": [
    "data = np.array([1,2,3,4,5])\n",
    "data_mean = data.mean()\n",
    "data_std = data.std()\n",
    "print(data.mean())\n",
    "print(data.std())\n",
    "normalized_data = (data-data_mean) / data_std\n",
    "print(normalized_data)\n",
    "\n",
    "\n"
   ]
  },
  {
   "cell_type": "code",
   "execution_count": null,
   "id": "8f933c99",
   "metadata": {},
   "outputs": [],
   "source": []
  },
  {
   "cell_type": "code",
   "execution_count": null,
   "id": "c5f69818",
   "metadata": {},
   "outputs": [],
   "source": []
  }
 ],
 "metadata": {
  "kernelspec": {
   "display_name": "Python 3",
   "language": "python",
   "name": "python3"
  },
  "language_info": {
   "codemirror_mode": {
    "name": "ipython",
    "version": 3
   },
   "file_extension": ".py",
   "mimetype": "text/x-python",
   "name": "python",
   "nbconvert_exporter": "python",
   "pygments_lexer": "ipython3",
   "version": "3.12.2"
  }
 },
 "nbformat": 4,
 "nbformat_minor": 5
}
